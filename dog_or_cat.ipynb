{
  "cells": [
    {
      "cell_type": "markdown",
      "metadata": {
        "id": "view-in-github",
        "colab_type": "text"
      },
      "source": [
        "<a href=\"https://colab.research.google.com/github/zigg17/dog_cat_binary_class/blob/main/dog_or_cat.ipynb\" target=\"_parent\"><img src=\"https://colab.research.google.com/assets/colab-badge.svg\" alt=\"Open In Colab\"/></a>"
      ]
    },
    {
      "cell_type": "markdown",
      "metadata": {
        "id": "Mg0W4k9bRx2O"
      },
      "source": [
        "# **Imports:**\n",
        "\n",
        "---\n",
        "\n"
      ]
    },
    {
      "cell_type": "code",
      "execution_count": 1,
      "metadata": {
        "colab": {
          "base_uri": "https://localhost:8080/"
        },
        "id": "pALvtROrRR3R",
        "outputId": "52a01322-d115-4a6f-e258-3d3a86db76a5"
      },
      "outputs": [
        {
          "output_type": "stream",
          "name": "stdout",
          "text": [
            "Drive already mounted at /content/drive; to attempt to forcibly remount, call drive.mount(\"/content/drive\", force_remount=True).\n",
            "Imported successfully\n"
          ]
        }
      ],
      "source": [
        "# basic imports\n",
        "import sys\n",
        "import os\n",
        "import csv\n",
        "import random\n",
        "\n",
        "# Pytorch libaries\n",
        "import torch\n",
        "from torch import nn\n",
        "import torchvision\n",
        "from torchvision import datasets, transforms\n",
        "from torchvision.transforms import ToTensor\n",
        "import torchvision.models as models\n",
        "from torch.utils.data import DataLoader, random_split, ConcatDataset, Subset\n",
        "from torchvision.datasets import ImageFolder\n",
        "\n",
        "# For loop\n",
        "from timeit import default_timer as timer\n",
        "from tqdm.auto import tqdm\n",
        "from IPython.display import clear_output\n",
        "\n",
        "# For plotting and visualizing\n",
        "import matplotlib.pyplot as plt\n",
        "import pandas as pd\n",
        "import numpy as np\n",
        "\n",
        "# For saving a path and loading\n",
        "from pathlib import Path\n",
        "import requests\n",
        "from google.colab import drive\n",
        "drive.mount('/content/drive')\n",
        "#Import the libraries\n",
        "import zipfile\n",
        "\n",
        "\n",
        "print(\"Imported successfully\")"
      ]
    },
    {
      "cell_type": "code",
      "execution_count": 2,
      "metadata": {
        "colab": {
          "base_uri": "https://localhost:8080/"
        },
        "id": "0hzznk7AW5Gy",
        "outputId": "435a1321-4545-4b05-9bcc-da0ccd7e4a72"
      },
      "outputs": [
        {
          "output_type": "stream",
          "name": "stdout",
          "text": [
            "Torch version: 2.2.1+cu121\n",
            "\n",
            "Torchvision version: 0.17.1+cu121\n",
            "\n",
            "CUDA version: 12.1\n",
            "\n",
            "cuDNN version: 8906\n",
            "\n",
            "Python version: 3.10.12 (main, Nov 20 2023, 15:14:05) [GCC 11.4.0]\n"
          ]
        }
      ],
      "source": [
        "print(f\"Torch version: {torch.__version__}\\n\")\n",
        "print(f\"Torchvision version: {torchvision.__version__}\\n\")\n",
        "print(f\"CUDA version: {torch.version.cuda}\\n\")\n",
        "print(f\"cuDNN version: {torch.backends.cudnn.version()}\\n\")\n",
        "print(f\"Python version: {sys.version}\")"
      ]
    },
    {
      "cell_type": "markdown",
      "metadata": {
        "id": "krWRA_yaSkgK"
      },
      "source": [
        "# **Training loop setup:**\n",
        "\n",
        "---\n",
        "\n"
      ]
    },
    {
      "cell_type": "code",
      "execution_count": 3,
      "metadata": {
        "colab": {
          "base_uri": "https://localhost:8080/"
        },
        "id": "FWypUfYtTESx",
        "outputId": "61743214-1cf7-4821-846e-6332ca861732"
      },
      "outputs": [
        {
          "output_type": "stream",
          "name": "stdout",
          "text": [
            "cuda\n"
          ]
        }
      ],
      "source": [
        "device = 'cuda' if torch.cuda.is_available() else \"cpu\"\n",
        "print(device)"
      ]
    },
    {
      "cell_type": "code",
      "execution_count": 4,
      "metadata": {
        "colab": {
          "base_uri": "https://localhost:8080/"
        },
        "id": "XvjKeezihlGN",
        "outputId": "347d8dad-8ff3-4b52-a464-6691f1f696b5"
      },
      "outputs": [
        {
          "output_type": "stream",
          "name": "stdout",
          "text": [
            "helper_functions.py DNE, download initiated\n",
            "Both functions are imported.\n"
          ]
        }
      ],
      "source": [
        "if Path(\"helper_functions.py\").is_file():\n",
        "  print(\"helper_functions.py already exists, download skipped\")\n",
        "else:\n",
        "  print(\"helper_functions.py DNE, download initiated\")\n",
        "  request = requests.get(\"https://raw.githubusercontent.com/mrdbourke/pytorch-deep-learning/main/helper_functions.py\")\n",
        "  with open(\"helper_functions.py\", \"wb\") as f:\n",
        "    f.write(request.content)\n",
        "\n",
        "from helper_functions import accuracy_fn, print_train_time\n",
        "\n",
        "if 'accuracy_fn' and 'print_train_time' in dir():\n",
        "    print(\"Both functions are imported.\")\n",
        "else:\n",
        "    print(\"Accuracy function is not imported.\")"
      ]
    },
    {
      "cell_type": "code",
      "execution_count": 5,
      "metadata": {
        "id": "bwJnoV81SqLz"
      },
      "outputs": [],
      "source": [
        "def train_step(model: torch.nn.Module,\n",
        "                   data_loader: torch.utils.data.DataLoader,\n",
        "                   loss_fn: torch.nn.Module,\n",
        "                   optimizer: torch.optim.Optimizer,\n",
        "                   accuracy_fn,\n",
        "                   device: torch.device = device):\n",
        "  train_loss, train_acc = 0, 0\n",
        "  # For training\n",
        "  model.train()\n",
        "  for batch, (image, label) in enumerate(data_loader):\n",
        "\n",
        "    # Optimizer zero grad\n",
        "    optimizer.zero_grad()\n",
        "\n",
        "    # Forward pass\n",
        "    image = image.to(device)\n",
        "    label = label.to(device, dtype=torch.float)\n",
        "    pred = model(image).squeeze()\n",
        "\n",
        "    # Calculate the loss\n",
        "    loss = loss_fn(pred, label)\n",
        "    train_loss += loss\n",
        "    train_acc += accuracy_fn(y_true = label,\n",
        "                             y_pred = torch.round(torch.sigmoid(pred)))\n",
        "\n",
        "    # Backprop\n",
        "    loss.backward()\n",
        "\n",
        "    # Optimizer step\n",
        "    optimizer.step()\n",
        "\n",
        "  # For calculating average trainloss over every batch in each epoch\n",
        "  train_loss /= len(data_loader)\n",
        "  train_acc /= len(data_loader)\n",
        "  print(f\"Train loss: {train_loss: 5f} | Train acc: {train_acc:.2f}\")"
      ]
    },
    {
      "cell_type": "code",
      "execution_count": 6,
      "metadata": {
        "id": "vnD_z6N3Sslp"
      },
      "outputs": [],
      "source": [
        "def test_step(model: torch.nn.Module,\n",
        "                  data_loader: torch.utils.data.DataLoader,\n",
        "                  loss_fn: torch.nn.Module,\n",
        "                  optimizer: torch.optim.Optimizer,\n",
        "                  accuracy_fn,\n",
        "                  device: torch.device = device):\n",
        "\n",
        "  test_loss, test_acc = 0, 0\n",
        "  model.eval()\n",
        "\n",
        "  with torch.inference_mode():\n",
        "    for batch, (image, label) in enumerate(data_loader):\n",
        "      # Forward pass\n",
        "      image = image.to(device)\n",
        "      label = label.to(device, dtype=torch.float)\n",
        "      pred = model(image).squeeze()\n",
        "\n",
        "      # Loss calculation\n",
        "      loss = loss_fn(pred, label)\n",
        "      test_loss += loss\n",
        "\n",
        "      # Accuracy calculation\n",
        "      test_acc += accuracy_fn(y_true = label,\n",
        "                              y_pred = torch.round(torch.sigmoid(pred)))\n",
        "\n",
        "    test_loss /= len(data_loader)\n",
        "    test_acc /= len(data_loader)\n",
        "    print(f\"Test loss: {test_loss: 5f} | Test acc: {test_acc:.2f}\")"
      ]
    },
    {
      "cell_type": "markdown",
      "metadata": {
        "id": "_wMLRhSfWkYY"
      },
      "source": [
        "# **Model setup:**\n",
        "\n",
        "---\n",
        "\n"
      ]
    },
    {
      "cell_type": "code",
      "execution_count": 7,
      "metadata": {
        "id": "BCSEBrkdWqMf",
        "colab": {
          "base_uri": "https://localhost:8080/"
        },
        "outputId": "7f8d3703-3553-42c1-d88f-460829667399"
      },
      "outputs": [
        {
          "output_type": "stream",
          "name": "stderr",
          "text": [
            "Downloading: \"https://download.pytorch.org/models/resnet34-b627a593.pth\" to /root/.cache/torch/hub/checkpoints/resnet34-b627a593.pth\n",
            "100%|██████████| 83.3M/83.3M [00:00<00:00, 160MB/s]\n"
          ]
        }
      ],
      "source": [
        "model = models.resnet34(weights='IMAGENET1K_V1')\n",
        "model.conv1 = nn.Conv2d(1, 64, kernel_size=(7, 7), stride=(2, 2), padding=(3, 3), bias=False)\n",
        "num_ftrs = model.fc.in_features\n",
        "num_classes = 1\n",
        "model.fc = nn.Linear(num_ftrs, num_classes)\n",
        "model = model.to(device)"
      ]
    },
    {
      "cell_type": "markdown",
      "metadata": {
        "id": "z_CLUM0dcKe2"
      },
      "source": [
        "# **Training loop:**\n",
        "\n",
        "---\n",
        "\n"
      ]
    },
    {
      "cell_type": "code",
      "execution_count": 8,
      "metadata": {
        "id": "mD254E5xcPmt"
      },
      "outputs": [],
      "source": [
        "optimizer = torch.optim.SGD(params = model.parameters(), lr = 0.0015)\n",
        "loss_fn = nn.BCEWithLogitsLoss()"
      ]
    },
    {
      "cell_type": "code",
      "source": [
        "zip_ref = zipfile.ZipFile(\"/content/drive/MyDrive/dogorcat.zip\", 'r')\n",
        "zip_ref.extractall(\"/tmp\")\n",
        "zip_ref.close()"
      ],
      "metadata": {
        "id": "6gApxo6iUgTD"
      },
      "execution_count": 9,
      "outputs": []
    },
    {
      "cell_type": "code",
      "source": [
        "def delete_specific_image(folder_path, image_name):\n",
        "    # Construct the full path of the image\n",
        "    image_path = os.path.join(folder_path, image_name)\n",
        "\n",
        "    # Check if the file exists\n",
        "    if os.path.exists(image_path):\n",
        "        # Delete the file\n",
        "        os.remove(image_path)\n",
        "        return f\"Image '{image_name}' has been deleted from '{folder_path}'.\"\n",
        "    else:\n",
        "        return f\"Image '{image_name}' does not exist in '{folder_path}'.\"\n",
        "\n",
        "result = delete_specific_image('/tmp/dogorcat/Cat', '666.jpg')\n",
        "result1 = delete_specific_image('/tmp/dogorcat/Dog', '11702.jpg')\n",
        "print(result)\n",
        "print(result1)"
      ],
      "metadata": {
        "colab": {
          "base_uri": "https://localhost:8080/"
        },
        "id": "ZpHWDO8JWnyD",
        "outputId": "9db2819c-3209-4c00-8948-61b40350df40"
      },
      "execution_count": 10,
      "outputs": [
        {
          "output_type": "stream",
          "name": "stdout",
          "text": [
            "Image '666.jpg' does not exist in '/tmp/dogorcat/Cat'.\n",
            "Image '11702.jpg' has been deleted from '/tmp/dogorcat/Dog'.\n"
          ]
        }
      ]
    },
    {
      "cell_type": "code",
      "execution_count": 11,
      "metadata": {
        "colab": {
          "base_uri": "https://localhost:8080/"
        },
        "id": "rGQHeA5Mi9_p",
        "outputId": "f0a0f0b3-dd20-41bc-fe62-060eda2e17d3"
      },
      "outputs": [
        {
          "output_type": "stream",
          "name": "stdout",
          "text": [
            "Class types: ['Cat', 'Dog']\n"
          ]
        }
      ],
      "source": [
        "def load_dataset(dataset_path, transform=None):\n",
        "    return ImageFolder(dataset_path, transform=transform)\n",
        "\n",
        "# Define your transformations\n",
        "transform = transforms.Compose([\n",
        "    transforms.Resize((224, 224)),\n",
        "    transforms.ToTensor(),\n",
        "    transforms.Grayscale(num_output_channels=1)\n",
        "])\n",
        "\n",
        "\n",
        "\n",
        "combined_dataset = load_dataset('/tmp/dogorcat', transform=transform)\n",
        "\n",
        "print(f\"Class types: {combined_dataset.classes}\")\n",
        "\n",
        "\n",
        "# Split the subset into train and test sets\n",
        "train_size = int(0.8 * len(combined_dataset))  # 80% for training\n",
        "test_size = len(combined_dataset) - train_size  # 20% for testing\n",
        "train_dataset, test_dataset = random_split(combined_dataset, [train_size, test_size])\n",
        "\n",
        "# Create DataLoaders for train and test sets\n",
        "train_dataloader = DataLoader(train_dataset, batch_size=32, shuffle=True)\n",
        "test_dataloader = DataLoader(test_dataset, batch_size=32, shuffle=True)"
      ]
    },
    {
      "cell_type": "code",
      "execution_count": 12,
      "metadata": {
        "colab": {
          "base_uri": "https://localhost:8080/",
          "height": 457,
          "referenced_widgets": [
            "f2899b7574fa4b5f9a7d1a9efa14e845",
            "16e5325a79f342d1b64d0dc1903b7462",
            "b1c6d4a72bc448059ab6e6adda814671",
            "35451b1152b146abbb199bfaa1769b62",
            "1d363ed2edde484b847be8f2c8c598f5",
            "886044219fe64acd8bd9824fc6d126ae",
            "80e69ce5dfda4164a17d5ae1a92a10d0",
            "e49ccc15940947e3a2e28759e6ada705",
            "fbf355b3fce44090a70e60f659bec558",
            "8c16584ad7cb42eb81d6deee81cc951e",
            "5093647d937d40e1b1e1877adcb7228e"
          ]
        },
        "id": "8fudgfGphX0w",
        "outputId": "5ff220c8-3db3-4982-8f4e-95884e784c07"
      },
      "outputs": [
        {
          "output_type": "display_data",
          "data": {
            "text/plain": [
              "  0%|          | 0/10 [00:00<?, ?it/s]"
            ],
            "application/vnd.jupyter.widget-view+json": {
              "version_major": 2,
              "version_minor": 0,
              "model_id": "f2899b7574fa4b5f9a7d1a9efa14e845"
            }
          },
          "metadata": {}
        },
        {
          "output_type": "stream",
          "name": "stderr",
          "text": [
            "/usr/local/lib/python3.10/dist-packages/PIL/TiffImagePlugin.py:858: UserWarning: Truncated File Read\n",
            "  warnings.warn(str(msg))\n"
          ]
        },
        {
          "output_type": "stream",
          "name": "stdout",
          "text": [
            "Train loss:  0.463063 | Train acc: 77.86\n",
            "Test loss:  0.364448 | Test acc: 83.48\n",
            "Train loss:  0.230744 | Train acc: 90.61\n",
            "Test loss:  0.213954 | Test acc: 91.12\n",
            "Train loss:  0.157568 | Train acc: 93.77\n",
            "Test loss:  0.160545 | Test acc: 93.29\n",
            "Train loss:  0.117402 | Train acc: 95.40\n",
            "Test loss:  0.124433 | Test acc: 95.02\n",
            "Train loss:  0.093190 | Train acc: 96.38\n",
            "Test loss:  0.113713 | Test acc: 95.16\n",
            "Train loss:  0.071656 | Train acc: 97.33\n",
            "Test loss:  0.113793 | Test acc: 95.54\n",
            "Train loss:  0.060808 | Train acc: 97.80\n",
            "Test loss:  0.148693 | Test acc: 93.93\n",
            "Train loss:  0.047477 | Train acc: 98.39\n",
            "Test loss:  0.105555 | Test acc: 96.10\n",
            "Train loss:  0.036191 | Train acc: 98.86\n",
            "Test loss:  0.114111 | Test acc: 95.68\n",
            "Train loss:  0.031449 | Train acc: 98.97\n",
            "Test loss:  0.111000 | Test acc: 95.86\n",
            "\n",
            "Train time on cuda:0: 1341.984 seconds\n"
          ]
        }
      ],
      "source": [
        "epochCount = []\n",
        "trainLosses = []\n",
        "testLosses = []\n",
        "accuracyCount = []\n",
        "\n",
        "epochs = 10\n",
        "timeStart = timer()\n",
        "\n",
        "for epoch in tqdm(range(epochs)):\n",
        "  train_step(model = model,\n",
        "             data_loader = train_dataloader,\n",
        "             loss_fn = loss_fn,\n",
        "             optimizer = optimizer,\n",
        "             accuracy_fn = accuracy_fn,\n",
        "             device = device)\n",
        "\n",
        "  test_step(model = model,\n",
        "            data_loader = test_dataloader,\n",
        "            loss_fn = loss_fn,\n",
        "            optimizer = optimizer,\n",
        "            accuracy_fn = accuracy_fn,\n",
        "            device = device)\n",
        "\n",
        "timeEnd = timer()\n",
        "totalTrainTime = print_train_time(start = timeStart,\n",
        "                                  end = timeEnd,\n",
        "                                  device = str(next(model.parameters()).device))"
      ]
    },
    {
      "cell_type": "markdown",
      "metadata": {
        "id": "EDVQtIAMRxQs"
      },
      "source": [
        "# **Model saving:**\n",
        "\n",
        "---"
      ]
    },
    {
      "cell_type": "code",
      "source": [
        "# Set the path in Google Drive\n",
        "drive_path = Path('/content/drive/My Drive/models')\n",
        "drive_path.mkdir(parents=True, exist_ok=True)\n",
        "\n",
        "# Create a model save path\n",
        "modelName = 'catdog2.pth'\n",
        "modelSavePath = drive_path / modelName\n",
        "\n",
        "print(f\"SAVING MODEL TO: {modelSavePath}\")\n",
        "\n",
        "# Example model save (replace `model.state_dict()` with your actual model's state dict)\n",
        "torch.save(obj=model.state_dict(), f=modelSavePath)\n"
      ],
      "metadata": {
        "id": "I_1FXllds0uN",
        "colab": {
          "base_uri": "https://localhost:8080/"
        },
        "outputId": "4069fb04-a047-4959-9466-456edaa19019"
      },
      "execution_count": 13,
      "outputs": [
        {
          "output_type": "stream",
          "name": "stdout",
          "text": [
            "SAVING MODEL TO: /content/drive/My Drive/models/catdog2.pth\n"
          ]
        }
      ]
    }
  ],
  "metadata": {
    "accelerator": "GPU",
    "colab": {
      "gpuType": "T4",
      "provenance": [],
      "mount_file_id": "1tRNSXEQMkWbMYluvdGiB1mXAMn_4gJ12",
      "authorship_tag": "ABX9TyMrtdY5Gtfcd8PzQ8QUYu9R",
      "include_colab_link": true
    },
    "kernelspec": {
      "display_name": "Python 3",
      "name": "python3"
    },
    "language_info": {
      "name": "python"
    },
    "widgets": {
      "application/vnd.jupyter.widget-state+json": {
        "f2899b7574fa4b5f9a7d1a9efa14e845": {
          "model_module": "@jupyter-widgets/controls",
          "model_name": "HBoxModel",
          "model_module_version": "1.5.0",
          "state": {
            "_dom_classes": [],
            "_model_module": "@jupyter-widgets/controls",
            "_model_module_version": "1.5.0",
            "_model_name": "HBoxModel",
            "_view_count": null,
            "_view_module": "@jupyter-widgets/controls",
            "_view_module_version": "1.5.0",
            "_view_name": "HBoxView",
            "box_style": "",
            "children": [
              "IPY_MODEL_16e5325a79f342d1b64d0dc1903b7462",
              "IPY_MODEL_b1c6d4a72bc448059ab6e6adda814671",
              "IPY_MODEL_35451b1152b146abbb199bfaa1769b62"
            ],
            "layout": "IPY_MODEL_1d363ed2edde484b847be8f2c8c598f5"
          }
        },
        "16e5325a79f342d1b64d0dc1903b7462": {
          "model_module": "@jupyter-widgets/controls",
          "model_name": "HTMLModel",
          "model_module_version": "1.5.0",
          "state": {
            "_dom_classes": [],
            "_model_module": "@jupyter-widgets/controls",
            "_model_module_version": "1.5.0",
            "_model_name": "HTMLModel",
            "_view_count": null,
            "_view_module": "@jupyter-widgets/controls",
            "_view_module_version": "1.5.0",
            "_view_name": "HTMLView",
            "description": "",
            "description_tooltip": null,
            "layout": "IPY_MODEL_886044219fe64acd8bd9824fc6d126ae",
            "placeholder": "​",
            "style": "IPY_MODEL_80e69ce5dfda4164a17d5ae1a92a10d0",
            "value": "100%"
          }
        },
        "b1c6d4a72bc448059ab6e6adda814671": {
          "model_module": "@jupyter-widgets/controls",
          "model_name": "FloatProgressModel",
          "model_module_version": "1.5.0",
          "state": {
            "_dom_classes": [],
            "_model_module": "@jupyter-widgets/controls",
            "_model_module_version": "1.5.0",
            "_model_name": "FloatProgressModel",
            "_view_count": null,
            "_view_module": "@jupyter-widgets/controls",
            "_view_module_version": "1.5.0",
            "_view_name": "ProgressView",
            "bar_style": "success",
            "description": "",
            "description_tooltip": null,
            "layout": "IPY_MODEL_e49ccc15940947e3a2e28759e6ada705",
            "max": 10,
            "min": 0,
            "orientation": "horizontal",
            "style": "IPY_MODEL_fbf355b3fce44090a70e60f659bec558",
            "value": 10
          }
        },
        "35451b1152b146abbb199bfaa1769b62": {
          "model_module": "@jupyter-widgets/controls",
          "model_name": "HTMLModel",
          "model_module_version": "1.5.0",
          "state": {
            "_dom_classes": [],
            "_model_module": "@jupyter-widgets/controls",
            "_model_module_version": "1.5.0",
            "_model_name": "HTMLModel",
            "_view_count": null,
            "_view_module": "@jupyter-widgets/controls",
            "_view_module_version": "1.5.0",
            "_view_name": "HTMLView",
            "description": "",
            "description_tooltip": null,
            "layout": "IPY_MODEL_8c16584ad7cb42eb81d6deee81cc951e",
            "placeholder": "​",
            "style": "IPY_MODEL_5093647d937d40e1b1e1877adcb7228e",
            "value": " 10/10 [22:21&lt;00:00, 133.96s/it]"
          }
        },
        "1d363ed2edde484b847be8f2c8c598f5": {
          "model_module": "@jupyter-widgets/base",
          "model_name": "LayoutModel",
          "model_module_version": "1.2.0",
          "state": {
            "_model_module": "@jupyter-widgets/base",
            "_model_module_version": "1.2.0",
            "_model_name": "LayoutModel",
            "_view_count": null,
            "_view_module": "@jupyter-widgets/base",
            "_view_module_version": "1.2.0",
            "_view_name": "LayoutView",
            "align_content": null,
            "align_items": null,
            "align_self": null,
            "border": null,
            "bottom": null,
            "display": null,
            "flex": null,
            "flex_flow": null,
            "grid_area": null,
            "grid_auto_columns": null,
            "grid_auto_flow": null,
            "grid_auto_rows": null,
            "grid_column": null,
            "grid_gap": null,
            "grid_row": null,
            "grid_template_areas": null,
            "grid_template_columns": null,
            "grid_template_rows": null,
            "height": null,
            "justify_content": null,
            "justify_items": null,
            "left": null,
            "margin": null,
            "max_height": null,
            "max_width": null,
            "min_height": null,
            "min_width": null,
            "object_fit": null,
            "object_position": null,
            "order": null,
            "overflow": null,
            "overflow_x": null,
            "overflow_y": null,
            "padding": null,
            "right": null,
            "top": null,
            "visibility": null,
            "width": null
          }
        },
        "886044219fe64acd8bd9824fc6d126ae": {
          "model_module": "@jupyter-widgets/base",
          "model_name": "LayoutModel",
          "model_module_version": "1.2.0",
          "state": {
            "_model_module": "@jupyter-widgets/base",
            "_model_module_version": "1.2.0",
            "_model_name": "LayoutModel",
            "_view_count": null,
            "_view_module": "@jupyter-widgets/base",
            "_view_module_version": "1.2.0",
            "_view_name": "LayoutView",
            "align_content": null,
            "align_items": null,
            "align_self": null,
            "border": null,
            "bottom": null,
            "display": null,
            "flex": null,
            "flex_flow": null,
            "grid_area": null,
            "grid_auto_columns": null,
            "grid_auto_flow": null,
            "grid_auto_rows": null,
            "grid_column": null,
            "grid_gap": null,
            "grid_row": null,
            "grid_template_areas": null,
            "grid_template_columns": null,
            "grid_template_rows": null,
            "height": null,
            "justify_content": null,
            "justify_items": null,
            "left": null,
            "margin": null,
            "max_height": null,
            "max_width": null,
            "min_height": null,
            "min_width": null,
            "object_fit": null,
            "object_position": null,
            "order": null,
            "overflow": null,
            "overflow_x": null,
            "overflow_y": null,
            "padding": null,
            "right": null,
            "top": null,
            "visibility": null,
            "width": null
          }
        },
        "80e69ce5dfda4164a17d5ae1a92a10d0": {
          "model_module": "@jupyter-widgets/controls",
          "model_name": "DescriptionStyleModel",
          "model_module_version": "1.5.0",
          "state": {
            "_model_module": "@jupyter-widgets/controls",
            "_model_module_version": "1.5.0",
            "_model_name": "DescriptionStyleModel",
            "_view_count": null,
            "_view_module": "@jupyter-widgets/base",
            "_view_module_version": "1.2.0",
            "_view_name": "StyleView",
            "description_width": ""
          }
        },
        "e49ccc15940947e3a2e28759e6ada705": {
          "model_module": "@jupyter-widgets/base",
          "model_name": "LayoutModel",
          "model_module_version": "1.2.0",
          "state": {
            "_model_module": "@jupyter-widgets/base",
            "_model_module_version": "1.2.0",
            "_model_name": "LayoutModel",
            "_view_count": null,
            "_view_module": "@jupyter-widgets/base",
            "_view_module_version": "1.2.0",
            "_view_name": "LayoutView",
            "align_content": null,
            "align_items": null,
            "align_self": null,
            "border": null,
            "bottom": null,
            "display": null,
            "flex": null,
            "flex_flow": null,
            "grid_area": null,
            "grid_auto_columns": null,
            "grid_auto_flow": null,
            "grid_auto_rows": null,
            "grid_column": null,
            "grid_gap": null,
            "grid_row": null,
            "grid_template_areas": null,
            "grid_template_columns": null,
            "grid_template_rows": null,
            "height": null,
            "justify_content": null,
            "justify_items": null,
            "left": null,
            "margin": null,
            "max_height": null,
            "max_width": null,
            "min_height": null,
            "min_width": null,
            "object_fit": null,
            "object_position": null,
            "order": null,
            "overflow": null,
            "overflow_x": null,
            "overflow_y": null,
            "padding": null,
            "right": null,
            "top": null,
            "visibility": null,
            "width": null
          }
        },
        "fbf355b3fce44090a70e60f659bec558": {
          "model_module": "@jupyter-widgets/controls",
          "model_name": "ProgressStyleModel",
          "model_module_version": "1.5.0",
          "state": {
            "_model_module": "@jupyter-widgets/controls",
            "_model_module_version": "1.5.0",
            "_model_name": "ProgressStyleModel",
            "_view_count": null,
            "_view_module": "@jupyter-widgets/base",
            "_view_module_version": "1.2.0",
            "_view_name": "StyleView",
            "bar_color": null,
            "description_width": ""
          }
        },
        "8c16584ad7cb42eb81d6deee81cc951e": {
          "model_module": "@jupyter-widgets/base",
          "model_name": "LayoutModel",
          "model_module_version": "1.2.0",
          "state": {
            "_model_module": "@jupyter-widgets/base",
            "_model_module_version": "1.2.0",
            "_model_name": "LayoutModel",
            "_view_count": null,
            "_view_module": "@jupyter-widgets/base",
            "_view_module_version": "1.2.0",
            "_view_name": "LayoutView",
            "align_content": null,
            "align_items": null,
            "align_self": null,
            "border": null,
            "bottom": null,
            "display": null,
            "flex": null,
            "flex_flow": null,
            "grid_area": null,
            "grid_auto_columns": null,
            "grid_auto_flow": null,
            "grid_auto_rows": null,
            "grid_column": null,
            "grid_gap": null,
            "grid_row": null,
            "grid_template_areas": null,
            "grid_template_columns": null,
            "grid_template_rows": null,
            "height": null,
            "justify_content": null,
            "justify_items": null,
            "left": null,
            "margin": null,
            "max_height": null,
            "max_width": null,
            "min_height": null,
            "min_width": null,
            "object_fit": null,
            "object_position": null,
            "order": null,
            "overflow": null,
            "overflow_x": null,
            "overflow_y": null,
            "padding": null,
            "right": null,
            "top": null,
            "visibility": null,
            "width": null
          }
        },
        "5093647d937d40e1b1e1877adcb7228e": {
          "model_module": "@jupyter-widgets/controls",
          "model_name": "DescriptionStyleModel",
          "model_module_version": "1.5.0",
          "state": {
            "_model_module": "@jupyter-widgets/controls",
            "_model_module_version": "1.5.0",
            "_model_name": "DescriptionStyleModel",
            "_view_count": null,
            "_view_module": "@jupyter-widgets/base",
            "_view_module_version": "1.2.0",
            "_view_name": "StyleView",
            "description_width": ""
          }
        }
      }
    }
  },
  "nbformat": 4,
  "nbformat_minor": 0
}