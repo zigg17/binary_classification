{
  "cells": [
    {
      "cell_type": "markdown",
      "metadata": {
        "id": "Mg0W4k9bRx2O"
      },
      "source": [
        "# **Imports:**\n",
        "\n",
        "---\n",
        "\n"
      ]
    },
    {
      "cell_type": "code",
      "execution_count": null,
      "metadata": {
        "colab": {
          "base_uri": "https://localhost:8080/"
        },
        "id": "pALvtROrRR3R",
        "outputId": "5c3cea75-c4ea-43ca-e1be-5ebdbd6b4a53"
      },
      "outputs": [
        {
          "output_type": "stream",
          "name": "stdout",
          "text": [
            "Drive already mounted at /content/drive; to attempt to forcibly remount, call drive.mount(\"/content/drive\", force_remount=True).\n",
            "Imported successfully\n"
          ]
        }
      ],
      "source": [
        "# basic imports\n",
        "import sys\n",
        "import os\n",
        "import csv\n",
        "import random\n",
        "\n",
        "# Pytorch libaries\n",
        "import torch\n",
        "from torch import nn\n",
        "import torchvision\n",
        "from torchvision import datasets, transforms\n",
        "from torchvision.transforms import ToTensor\n",
        "import torchvision.models as models\n",
        "from torch.utils.data import DataLoader, random_split, ConcatDataset, Subset\n",
        "from torchvision.datasets import ImageFolder\n",
        "\n",
        "# For loop\n",
        "from timeit import default_timer as timer\n",
        "from tqdm.auto import tqdm\n",
        "from IPython.display import clear_output\n",
        "\n",
        "# For plotting and visualizing\n",
        "import matplotlib.pyplot as plt\n",
        "import pandas as pd\n",
        "import numpy as np\n",
        "\n",
        "# For saving a path and loading\n",
        "from pathlib import Path\n",
        "import requests\n",
        "from google.colab import drive\n",
        "drive.mount('/content/drive')\n",
        "\n",
        "print(\"Imported successfully\")"
      ]
    },
    {
      "cell_type": "code",
      "execution_count": null,
      "metadata": {
        "colab": {
          "base_uri": "https://localhost:8080/"
        },
        "id": "0hzznk7AW5Gy",
        "outputId": "ab81257f-e23a-4b41-e4ad-9b3fb3b48144"
      },
      "outputs": [
        {
          "output_type": "stream",
          "name": "stdout",
          "text": [
            "Torch version: 2.2.1+cu121\n",
            "\n",
            "Torchvision version: 0.17.1+cu121\n",
            "\n",
            "CUDA version: 12.1\n",
            "\n",
            "cuDNN version: 8906\n",
            "\n",
            "Python version: 3.10.12 (main, Nov 20 2023, 15:14:05) [GCC 11.4.0]\n"
          ]
        }
      ],
      "source": [
        "print(f\"Torch version: {torch.__version__}\\n\")\n",
        "print(f\"Torchvision version: {torchvision.__version__}\\n\")\n",
        "print(f\"CUDA version: {torch.version.cuda}\\n\")\n",
        "print(f\"cuDNN version: {torch.backends.cudnn.version()}\\n\")\n",
        "print(f\"Python version: {sys.version}\")"
      ]
    },
    {
      "cell_type": "markdown",
      "metadata": {
        "id": "krWRA_yaSkgK"
      },
      "source": [
        "# **Training loop setup:**\n",
        "\n",
        "---\n",
        "\n"
      ]
    },
    {
      "cell_type": "code",
      "execution_count": null,
      "metadata": {
        "colab": {
          "base_uri": "https://localhost:8080/"
        },
        "id": "FWypUfYtTESx",
        "outputId": "637271d3-af42-48a8-c859-81fc757d2374"
      },
      "outputs": [
        {
          "output_type": "stream",
          "name": "stdout",
          "text": [
            "cuda\n"
          ]
        }
      ],
      "source": [
        "device = 'cuda' if torch.cuda.is_available() else \"cpu\"\n",
        "print(device)"
      ]
    },
    {
      "cell_type": "code",
      "execution_count": null,
      "metadata": {
        "colab": {
          "base_uri": "https://localhost:8080/"
        },
        "id": "XvjKeezihlGN",
        "outputId": "cda395c4-b135-4fb5-eec5-72e749ca14f8"
      },
      "outputs": [
        {
          "output_type": "stream",
          "name": "stdout",
          "text": [
            "helper_functions.py DNE, download initiated\n",
            "Both functions are imported.\n"
          ]
        }
      ],
      "source": [
        "if Path(\"helper_functions.py\").is_file():\n",
        "  print(\"helper_functions.py already exists, download skipped\")\n",
        "else:\n",
        "  print(\"helper_functions.py DNE, download initiated\")\n",
        "  request = requests.get(\"https://raw.githubusercontent.com/mrdbourke/pytorch-deep-learning/main/helper_functions.py\")\n",
        "  with open(\"helper_functions.py\", \"wb\") as f:\n",
        "    f.write(request.content)\n",
        "\n",
        "from helper_functions import accuracy_fn, print_train_time\n",
        "\n",
        "if 'accuracy_fn' and 'print_train_time' in dir():\n",
        "    print(\"Both functions are imported.\")\n",
        "else:\n",
        "    print(\"Accuracy function is not imported.\")"
      ]
    },
    {
      "cell_type": "code",
      "execution_count": null,
      "metadata": {
        "id": "bwJnoV81SqLz"
      },
      "outputs": [],
      "source": [
        "def train_step(model: torch.nn.Module,\n",
        "                   data_loader: torch.utils.data.DataLoader,\n",
        "                   loss_fn: torch.nn.Module,\n",
        "                   optimizer: torch.optim.Optimizer,\n",
        "                   accuracy_fn,\n",
        "                   device: torch.device = device):\n",
        "  train_loss, train_acc = 0, 0\n",
        "  # For training\n",
        "  model.train()\n",
        "  for batch, (image, label) in enumerate(data_loader):\n",
        "\n",
        "    # Optimizer zero grad\n",
        "    optimizer.zero_grad()\n",
        "\n",
        "    # Forward pass\n",
        "    image = image.to(device)\n",
        "    label = label.to(device, dtype=torch.float)\n",
        "    pred = model(image).squeeze()\n",
        "\n",
        "    # Calculate the loss\n",
        "    loss = loss_fn(pred, label)\n",
        "    train_loss += loss\n",
        "    train_acc += accuracy_fn(y_true = label,\n",
        "                             y_pred = torch.round(torch.sigmoid(pred)))\n",
        "\n",
        "    # Backprop\n",
        "    loss.backward()\n",
        "\n",
        "    # Optimizer step\n",
        "    optimizer.step()\n",
        "\n",
        "  # For calculating average trainloss over every batch in each epoch\n",
        "  train_loss /= len(data_loader)\n",
        "  train_acc /= len(data_loader)\n",
        "  print(f\"Train loss: {train_loss: 5f} | Train acc: {train_acc:.2f}\")"
      ]
    },
    {
      "cell_type": "code",
      "execution_count": null,
      "metadata": {
        "id": "vnD_z6N3Sslp"
      },
      "outputs": [],
      "source": [
        "def test_step(model: torch.nn.Module,\n",
        "                  data_loader: torch.utils.data.DataLoader,\n",
        "                  loss_fn: torch.nn.Module,\n",
        "                  optimizer: torch.optim.Optimizer,\n",
        "                  accuracy_fn,\n",
        "                  device: torch.device = device):\n",
        "\n",
        "  test_loss, test_acc = 0, 0\n",
        "  model.eval()\n",
        "\n",
        "  with torch.inference_mode():\n",
        "    for batch, (image, label) in enumerate(data_loader):\n",
        "      # Forward pass\n",
        "      image = image.to(device)\n",
        "      label = label.to(device, dtype=torch.float)\n",
        "      pred = model(image).squeeze()\n",
        "\n",
        "      # Loss calculation\n",
        "      loss = loss_fn(pred, label)\n",
        "      test_loss += loss\n",
        "\n",
        "      # Accuracy calculation\n",
        "      test_acc += accuracy_fn(y_true = label,\n",
        "                              y_pred = torch.round(torch.sigmoid(pred)))\n",
        "\n",
        "    test_loss /= len(data_loader)\n",
        "    test_acc /= len(data_loader)\n",
        "    print(f\"Test loss: {test_loss: 5f} | Test acc: {test_acc:.2f}\")"
      ]
    },
    {
      "cell_type": "markdown",
      "metadata": {
        "id": "_wMLRhSfWkYY"
      },
      "source": [
        "# **Model setup:**\n",
        "\n",
        "---\n",
        "\n"
      ]
    },
    {
      "cell_type": "code",
      "execution_count": null,
      "metadata": {
        "id": "BCSEBrkdWqMf",
        "colab": {
          "base_uri": "https://localhost:8080/"
        },
        "outputId": "9a431904-a07c-4902-b90f-beb9c03b96ff"
      },
      "outputs": [
        {
          "output_type": "stream",
          "name": "stderr",
          "text": [
            "Downloading: \"https://download.pytorch.org/models/resnet34-b627a593.pth\" to /root/.cache/torch/hub/checkpoints/resnet34-b627a593.pth\n",
            "100%|██████████| 83.3M/83.3M [00:00<00:00, 152MB/s]\n"
          ]
        }
      ],
      "source": [
        "model = models.resnet34(weights='IMAGENET1K_V1')\n",
        "model.conv1 = nn.Conv2d(1, 64, kernel_size=(7, 7), stride=(2, 2), padding=(3, 3), bias=False)\n",
        "num_ftrs = model.fc.in_features\n",
        "num_classes = 1\n",
        "model.fc = nn.Linear(num_ftrs, num_classes)\n",
        "model = model.to(device)"
      ]
    },
    {
      "cell_type": "markdown",
      "metadata": {
        "id": "z_CLUM0dcKe2"
      },
      "source": [
        "# **Training loop:**\n",
        "\n",
        "---\n",
        "\n"
      ]
    },
    {
      "cell_type": "code",
      "execution_count": null,
      "metadata": {
        "id": "mD254E5xcPmt"
      },
      "outputs": [],
      "source": [
        "optimizer = torch.optim.Adam(params = model.parameters(), lr = 0.001)\n",
        "loss_fn = nn.BCEWithLogitsLoss()"
      ]
    },
    {
      "cell_type": "code",
      "execution_count": null,
      "metadata": {
        "colab": {
          "base_uri": "https://localhost:8080/"
        },
        "id": "rGQHeA5Mi9_p",
        "outputId": "130ebe5f-10b0-4e8c-a771-e8d6a81017e0"
      },
      "outputs": [
        {
          "output_type": "stream",
          "name": "stdout",
          "text": [
            "Class types: ['Cat', 'Dog']\n"
          ]
        }
      ],
      "source": [
        "def load_dataset(dataset_path, transform=None):\n",
        "    return ImageFolder(dataset_path, transform=transform)\n",
        "\n",
        "# Define your transformations\n",
        "transform = transforms.Compose([\n",
        "    transforms.Resize((224, 224)),\n",
        "    transforms.ToTensor(),\n",
        "    transforms.Grayscale(num_output_channels=1)\n",
        "])\n",
        "\n",
        "combined_dataset = load_dataset('/content/drive/MyDrive/dogorcat', transform=transform)\n",
        "\n",
        "print(f\"Class types: {combined_dataset.classes}\")\n",
        "\n",
        "subset_indices = random.sample(range(len(combined_dataset)), 5500)\n",
        "subset_dataset = Subset(combined_dataset, subset_indices)\n",
        "\n",
        "# Split the subset into train and test sets\n",
        "train_size = int(0.8 * len(subset_dataset))  # 80% for training\n",
        "test_size = len(subset_dataset) - train_size  # 20% for testing\n",
        "train_dataset, test_dataset = random_split(subset_dataset, [train_size, test_size])\n",
        "\n",
        "# Create DataLoaders for train and test sets\n",
        "train_dataloader = DataLoader(train_dataset, batch_size=32, shuffle=True)\n",
        "test_dataloader = DataLoader(test_dataset, batch_size=32, shuffle=True)"
      ]
    },
    {
      "cell_type": "code",
      "execution_count": null,
      "metadata": {
        "id": "8fudgfGphX0w"
      },
      "outputs": [],
      "source": [
        "epochCount = []\n",
        "trainLosses = []\n",
        "testLosses = []\n",
        "accuracyCount = []\n",
        "\n",
        "epochs = 5\n",
        "timeStart = timer()\n",
        "\n",
        "for epoch in tqdm(range(epochs)):\n",
        "  train_step(model = model,\n",
        "             data_loader = train_dataloader,\n",
        "             loss_fn = loss_fn,\n",
        "             optimizer = optimizer,\n",
        "             accuracy_fn = accuracy_fn,\n",
        "             device = device)\n",
        "\n",
        "  test_step(model = model,\n",
        "            data_loader = test_dataloader,\n",
        "            loss_fn = loss_fn,\n",
        "            optimizer = optimizer,\n",
        "            accuracy_fn = accuracy_fn,\n",
        "            device = device)\n",
        "\n",
        "timeEnd = timer()\n",
        "totalTrainTime = print_train_time(start = timeStart,\n",
        "                                  end = timeEnd,\n",
        "                                  device = str(next(model.parameters()).device))"
      ]
    },
    {
      "cell_type": "markdown",
      "metadata": {
        "id": "EDVQtIAMRxQs"
      },
      "source": [
        "# **Model saving:**\n",
        "\n",
        "---"
      ]
    },
    {
      "cell_type": "code",
      "source": [
        "# Set the path in Google Drive\n",
        "drive_path = Path('/content/drive/My Drive/models')\n",
        "drive_path.mkdir(parents=True, exist_ok=True)\n",
        "\n",
        "# Create a model save path\n",
        "modelName = 'catdog.pth'\n",
        "modelSavePath = drive_path / modelName\n",
        "\n",
        "print(f\"SAVING MODEL TO: {modelSavePath}\")\n",
        "\n",
        "# Example model save (replace `model.state_dict()` with your actual model's state dict)\n",
        "torch.save(obj=model.state_dict(), f=modelSavePath)\n"
      ],
      "metadata": {
        "id": "I_1FXllds0uN"
      },
      "execution_count": null,
      "outputs": []
    },
    {
      "cell_type": "code",
      "execution_count": null,
      "metadata": {
        "id": "eBrXsYRLR7KK"
      },
      "outputs": [],
      "source": [
        "# Create a model directory\n",
        "modelPath = Path(\"models\")\n",
        "modelPath.mkdir(parents= True, exist_ok= True)\n",
        "\n",
        "# Create a model savepath\n",
        "modelName = input(\"Input model path name: \")\n",
        "\n",
        "modelSavePath = modelPath / modelName\n",
        "\n",
        "print(f\"SAVING MODEL TO: {modelSavePath}\")\n",
        "\n",
        "torch.save(obj= model.state_dict(), f= modelSavePath)"
      ]
    }
  ],
  "metadata": {
    "accelerator": "GPU",
    "colab": {
      "gpuType": "T4",
      "provenance": []
    },
    "kernelspec": {
      "display_name": "Python 3",
      "name": "python3"
    },
    "language_info": {
      "name": "python"
    }
  },
  "nbformat": 4,
  "nbformat_minor": 0
}